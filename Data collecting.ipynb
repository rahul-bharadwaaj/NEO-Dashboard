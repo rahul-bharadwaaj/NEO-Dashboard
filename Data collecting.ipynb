{
 "cells": [
  {
   "cell_type": "code",
   "execution_count": 12,
   "id": "9b750983",
   "metadata": {},
   "outputs": [],
   "source": [
    "import requests\n",
    "import json\n",
    "from datetime import datetime, timedelta\n",
    "import csv"
   ]
  },
  {
   "cell_type": "code",
   "execution_count": 9,
   "id": "6758aea3",
   "metadata": {},
   "outputs": [],
   "source": [
    "api_key = \"SjCCIumG56fAPhvxnaQiFLHz05hwae8iVLgzcYPs\"\n",
    "\n",
    "# Function to fetch data for a single week\n",
    "def fetch_neo_data(start_date, end_date, api_key):\n",
    "    url = f\"https://api.nasa.gov/neo/rest/v1/feed?start_date={start_date}&end_date={end_date}&api_key={api_key}\"\n",
    "    response = requests.get(url)\n",
    "    if response.status_code == 200:\n",
    "        return response.json()\n",
    "    else:\n",
    "        print(f\"Failed to retrieve data for {start_date} to {end_date}. Status code: {response.status_code}\")\n",
    "        return None"
   ]
  },
  {
   "cell_type": "code",
   "execution_count": 10,
   "id": "32d9f463",
   "metadata": {},
   "outputs": [
    {
     "name": "stdout",
     "output_type": "stream",
     "text": [
      "Data for the entire year retrieved and saved successfully.\n"
     ]
    }
   ],
   "source": [
    "start_date = datetime.strptime(\"2023-02-06\", '%Y-%m-%d')\n",
    "end_date = datetime.strptime(\"2024-02-06\", '%Y-%m-%d')\n",
    "current_date = start_date\n",
    "\n",
    "# Container for all data\n",
    "all_data = []\n",
    "\n",
    "while current_date < end_date:\n",
    "    week_end_date = current_date + timedelta(days=7)\n",
    "    if week_end_date > end_date:\n",
    "        week_end_date = end_date\n",
    "    \n",
    "    # Fetch data for the current week\n",
    "    data = fetch_neo_data(current_date.strftime('%Y-%m-%d'), week_end_date.strftime('%Y-%m-%d'), api_key)\n",
    "    if data:\n",
    "        all_data.append(data)\n",
    "    \n",
    "    # Prepare for the next iteration\n",
    "    current_date = week_end_date + timedelta(days=1)\n",
    "\n",
    "# Combine all data and save to file (This data is by week)\n",
    "with open('neo_data_year.json', 'w') as outfile:\n",
    "    json.dump(all_data, outfile, indent=4)\n",
    "\n",
    "print(\"Data for the entire year retrieved and saved successfully.\")"
   ]
  },
  {
   "cell_type": "code",
   "execution_count": 15,
   "id": "3b9a9956",
   "metadata": {},
   "outputs": [
    {
     "name": "stdout",
     "output_type": "stream",
     "text": [
      "CSV file has been created successfully.\n"
     ]
    }
   ],
   "source": [
    "with open('neo_data_year.json', 'r') as file:\n",
    "    all_neo_data = json.load(file)  \n",
    "\n",
    "\n",
    "csv_columns = [\n",
    "    'Date', 'ID', 'Name', 'Neo Reference ID', 'NASA JPL URL', 'Absolute Magnitude H',\n",
    "    'Estimated Diameter Min (km)', 'Estimated Diameter Max (km)', 'Is Potentially Hazardous Asteroid',\n",
    "    'Close Approach Date Full', 'Rela]ive Velocity (km/h)', 'Miss Distance (astronomical units)',\n",
    "    'Miss Distance (kilometers)', 'Orbiting Body'\n",
    "]\n",
    "\n",
    "csv_file = \"neo_data_year.csv\"\n",
    "\n",
    "\n",
    "with open(csv_file, 'w', newline='') as csvfile:\n",
    "    writer = csv.DictWriter(csvfile, fieldnames=csv_columns)\n",
    "    writer.writeheader()\n",
    "\n",
    "    # Iterate through each week's data\n",
    "    for weekly_data in all_neo_data:\n",
    "       \n",
    "        for date, neos in weekly_data['near_earth_objects'].items():\n",
    "            for neo in neos:\n",
    "                row = {\n",
    "                    'Date': date,\n",
    "                    'ID': neo.get('id', 'N/A'),\n",
    "                    'Name': neo.get('name', 'N/A'),\n",
    "                    'Neo Reference ID': neo.get('neo_reference_id', 'N/A'),\n",
    "                    'NASA JPL URL': neo.get('nasa_jpl_url', 'N/A'),\n",
    "                    'Absolute Magnitude H': neo.get('absolute_magnitude_h', 'N/A'),\n",
    "                    'Estimated Diameter Min (km)': neo.get('estimated_diameter', {}).get('kilometers', {}).get('estimated_diameter_min', 'N/A'),\n",
    "                    'Estimated Diameter Max (km)': neo.get('estimated_diameter', {}).get('kilometers', {}).get('estimated_diameter_max', 'N/A'),\n",
    "                    'Is Potentially Hazardous Asteroid': neo.get('is_potentially_hazardous_asteroid', 'N/A'),\n",
    "                    'Close Approach Date Full': neo.get('close_approach_data', [{}])[0].get('close_approach_date_full', 'N/A'),\n",
    "                    'Relative Velocity (km/h)': neo.get('close_approach_data', [{}])[0].get('relative_velocity', {}).get('kilometers_per_hour', 'N/A'),\n",
    "                    'Miss Distance (astronomical units)': neo.get('close_approach_data', [{}])[0].get('miss_distance', {}).get('astronomical', 'N/A'),\n",
    "                    'Miss Distance (kilometers)': neo.get('close_approach_data', [{}])[0].get('miss_distance', {}).get('kilometers', 'N/A'),\n",
    "                    'Orbiting Body': neo.get('close_approach_data', [{}])[0].get('orbiting_body', 'N/A')\n",
    "                }\n",
    "                writer.writerow(row)\n",
    "\n",
    "print(\"CSV file has been created successfully.\")"
   ]
  }
 ],
 "metadata": {
  "kernelspec": {
   "display_name": "Python 3 (ipykernel)",
   "language": "python",
   "name": "python3"
  },
  "language_info": {
   "codemirror_mode": {
    "name": "ipython",
    "version": 3
   },
   "file_extension": ".py",
   "mimetype": "text/x-python",
   "name": "python",
   "nbconvert_exporter": "python",
   "pygments_lexer": "ipython3",
   "version": "3.9.12"
  }
 },
 "nbformat": 4,
 "nbformat_minor": 5
}
